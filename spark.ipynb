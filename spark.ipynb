{
 "cells": [
  {
   "cell_type": "code",
   "execution_count": 1,
   "id": "07a5055a",
   "metadata": {},
   "outputs": [],
   "source": [
    "# Import findspark and initialize. \n",
    "import findspark\n",
    "findspark.init()"
   ]
  },
  {
   "cell_type": "code",
   "execution_count": 2,
   "id": "c3917df6",
   "metadata": {},
   "outputs": [
    {
     "name": "stderr",
     "output_type": "stream",
     "text": [
      "23/08/03 20:46:45 WARN Utils: Your hostname, sgMBPM1.local resolves to a loopback address: 127.0.0.1; using 10.0.0.48 instead (on interface en0)\n",
      "23/08/03 20:46:45 WARN Utils: Set SPARK_LOCAL_IP if you need to bind to another address\n",
      "Setting default log level to \"WARN\".\n",
      "To adjust logging level use sc.setLogLevel(newLevel). For SparkR, use setLogLevel(newLevel).\n",
      "23/08/03 20:46:45 WARN NativeCodeLoader: Unable to load native-hadoop library for your platform... using builtin-java classes where applicable\n",
      "/Users/seanguzman/opt/anaconda3/envs/pythondata/lib/python3.7/site-packages/pyspark/context.py:317: FutureWarning: Python 3.7 support is deprecated in Spark 3.4.\n",
      "  warnings.warn(\"Python 3.7 support is deprecated in Spark 3.4.\", FutureWarning)\n"
     ]
    }
   ],
   "source": [
    "# Import packages\n",
    "from pyspark.sql import SparkSession\n",
    "from pyspark.sql import Row\n",
    "from pyspark.sql.types import StructType,StructField,StringType, DateType,IntegerType\n",
    "from pyspark import SparkFiles\n",
    "\n",
    "# Create a SparkSession\n",
    "spark = SparkSession.builder.appName(\"HeartView\").getOrCreate()"
   ]
  },
  {
   "cell_type": "code",
   "execution_count": 3,
   "id": "8191da68",
   "metadata": {},
   "outputs": [],
   "source": [
    "# Read data directly from a github repo.\n",
    "url='https://raw.githubusercontent.com/cscar43/CardioMind-AI-Driven-Heart-Health-Analysis/main/Resources/cleaned_data_updated.csv'"
   ]
  },
  {
   "cell_type": "code",
   "execution_count": 4,
   "id": "2a8e928c",
   "metadata": {},
   "outputs": [
    {
     "name": "stdout",
     "output_type": "stream",
     "text": [
      "+------+---+--------------+----------------+----------------------+--------+-----------------+-----------------------+------------------------+-----+----------+------------+\n",
      "|gender|age|current_smoker|prevalent_stroke|prevalent_hypertension|diabetes|total_cholesterol|systolic_blood_pressure|diastolic_blood_pressure|  bmi|heart_rate|heart_stroke|\n",
      "+------+---+--------------+----------------+----------------------+--------+-----------------+-----------------------+------------------------+-----+----------+------------+\n",
      "|  Male| 39|             0|              no|                     0|       0|              195|                  106.0|                    70.0|26.97|        80|          No|\n",
      "|Female| 46|             0|              no|                     0|       0|              250|                  121.0|                    81.0|28.73|        95|          No|\n",
      "|  Male| 48|             1|              no|                     0|       0|              245|                  127.5|                    80.0|25.34|        75|          No|\n",
      "|Female| 61|             1|              no|                     1|       0|              225|                  150.0|                    95.0|28.58|        65|         yes|\n",
      "|Female| 46|             1|              no|                     0|       0|              285|                  130.0|                    84.0| 23.1|        85|          No|\n",
      "|Female| 43|             0|              no|                     1|       0|              228|                  180.0|                   110.0| 30.3|        77|          No|\n",
      "|Female| 63|             0|              no|                     0|       0|              205|                  138.0|                    71.0|33.11|        60|         yes|\n",
      "|Female| 45|             1|              no|                     0|       0|              313|                  100.0|                    71.0|21.68|        79|          No|\n",
      "|  Male| 52|             0|              no|                     1|       0|              260|                  141.5|                    89.0|26.36|        76|          No|\n",
      "|  Male| 43|             1|              no|                     1|       0|              225|                  162.0|                   107.0|23.61|        93|          No|\n",
      "|Female| 50|             0|              no|                     0|       0|              254|                  133.0|                    76.0|22.91|        75|          No|\n",
      "|Female| 43|             0|              no|                     0|       0|              247|                  131.0|                    88.0|27.64|        72|          No|\n",
      "|  Male| 46|             1|              no|                     1|       0|              294|                  142.0|                    94.0|26.31|        98|          No|\n",
      "|Female| 41|             0|              no|                     1|       0|              332|                  124.0|                    88.0|31.31|        65|          No|\n",
      "|Female| 39|             1|              no|                     0|       0|              226|                  114.0|                    64.0|22.35|        85|          No|\n",
      "|Female| 38|             1|              no|                     1|       0|              221|                  140.0|                    90.0|21.35|        95|         yes|\n",
      "|  Male| 48|             1|              no|                     1|       0|              232|                  138.0|                    90.0|22.37|        64|          No|\n",
      "|Female| 46|             1|              no|                     0|       0|              291|                  112.0|                    78.0|23.38|        80|         yes|\n",
      "|Female| 38|             1|              no|                     0|       0|              195|                  122.0|                    84.5|23.24|        75|          No|\n",
      "|  Male| 41|             0|              no|                     0|       0|              195|                  139.0|                    88.0|26.88|        85|          No|\n",
      "+------+---+--------------+----------------+----------------------+--------+-----------------+-----------------------+------------------------+-----+----------+------------+\n",
      "only showing top 20 rows\n",
      "\n"
     ]
    },
    {
     "name": "stderr",
     "output_type": "stream",
     "text": [
      "23/08/03 20:46:57 WARN GarbageCollectionMetrics: To enable non-built-in garbage collector(s) List(G1 Concurrent GC), users should configure it(them) to spark.eventLog.gcMetrics.youngGenerationGarbageCollectors or spark.eventLog.gcMetrics.oldGenerationGarbageCollectors\n"
     ]
    }
   ],
   "source": [
    "spark.sparkContext.addFile(url)\n",
    "heart_data = spark.read.option('header', 'true').csv(SparkFiles.get(\"cleaned_data_updated.csv\"), inferSchema=True, sep=',', timestampFormat=\"mm/dd/yy\")\n",
    "\n",
    "# Show DataFrame\n",
    "heart_data.show()"
   ]
  },
  {
   "cell_type": "code",
   "execution_count": null,
   "id": "0b3d8b91",
   "metadata": {},
   "outputs": [],
   "source": []
  }
 ],
 "metadata": {
  "kernelspec": {
   "display_name": "Python [conda env:pythondata] *",
   "language": "python",
   "name": "conda-env-pythondata-py"
  },
  "language_info": {
   "codemirror_mode": {
    "name": "ipython",
    "version": 3
   },
   "file_extension": ".py",
   "mimetype": "text/x-python",
   "name": "python",
   "nbconvert_exporter": "python",
   "pygments_lexer": "ipython3",
   "version": "3.7.13"
  }
 },
 "nbformat": 4,
 "nbformat_minor": 5
}
